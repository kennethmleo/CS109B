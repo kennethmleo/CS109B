{
 "cells": [
  {
   "cell_type": "markdown",
   "metadata": {},
   "source": [
    "## Title \n",
    "MCMC from Scratch for Linear Regression\n",
    "\n",
    "## Description :\n",
    "The aim of this exercise is to perform Monte Carlo Markov Chain (MCMC) from scratch for linear regression. For this, we will be using our old friend the Advertising dataset.\n",
    "\n",
    "On completing the exercise you should be able to see the following distribution. One for each of the beta value:\n",
    "\n",
    "<img src=\"../fig/fig.png\" style=\"width: 500px;\">\n",
    "\n",
    "## Instructions:\n",
    "- Read the data file Advertising.csv and set the predictor and response variables.\n",
    "- Fit a linear regression model on the advertising data and take a look at the beta values.\n",
    "- Create 2 lists to store the beta values and initialize the beta values.\n",
    "- Define a function get_prior to compute the prior value given the beta values. \n",
    "- Compute the likelihood, prior and posterior for the initial beta values.\n",
    "- For a selected number of sampling \"epochs\":\n",
    "    - Compute new beta values\n",
    "    - Compute the corresponding likelihood, prior and posterior.\n",
    "    - Compute the exponential ratio of the current and previous posterior.\n",
    "    - Based on the ratio, select or reject the new beta values.\n",
    "- Choose a burn rate.\n",
    "- Plot the histogram of the beta values.\n",
    "\n",
    "## Hints: \n",
    "\n",
    "<a href=\"https://numpy.org/doc/stable/reference/generated/numpy.log.html\" target=\"_blank\">np.log()</a> Computes the natural logarithm, element-wise.\n",
    "\n",
    "<a href=\"https://numpy.org/doc/stable/reference/generated/numpy.exp.html?highlight=exp#numpy.exp\" target=\"_blank\">np.exp()</a> Calculates the exponential of all elements in the input array.\n",
    "\n",
    "<a href=\"https://www.google.com/search?q=sklearn+linear+gressiogn&rlz=1C5CHFA_enIN777IN777&oq=sklearn+linear+gressiogn&aqs=chrome..69i57j69i59l2j0i271j69i60.3137j0j7&sourceid=chrome&ie=UTF-8\" target=\"_blank\">LinearRegression()</a> Initiates an ordinary least squares Linear Regression.\n",
    "\n",
    "<a href=\"https://scikit-learn.org/stable/modules/generated/sklearn.linear_model.LinearRegression.html?highlight=linear%20regression#sklearn.linear_model.LinearRegression.fit\" target=\"_blank\">.fit()</a> Fits the linear model to the data.\n",
    "\n",
    "<a href=\"https://scikit-learn.org/stable/modules/generated/sklearn.linear_model.LinearRegression.html\" target=\"_blank\">model.coef_</a> Estimated coefficients for the linear regression problem\n",
    "\n",
    "<a href=\"https://scikit-learn.org/stable/modules/generated/sklearn.linear_model.LinearRegression.html\" target=\"_blank\">model.intercept_</a> Independent term in the linear model.\n",
    "\n",
    "<a href=\"https://numpy.org/doc/stable/reference/random/generated/numpy.random.normal.html?highlight=random%20normal#numpy.random.normal\" target=\"_blank\">np.random.normal()</a> Draw random samples from a normal (Gaussian) distribution.\n",
    "\n",
    "<a href=\"https://docs.scipy.org/doc/scipy/reference/generated/scipy.stats.norm.html\" target=\"_blank\">norm.pdf()</a> A normal continuous random variable.\n",
    "\n",
    "<a href=\"https://numpy.org/doc/stable/reference/generated/numpy.sum.html?highlight=sum\" target=\"_blank\">np.sum()</a> Sum of array elements over a given axis.\n",
    "\n",
    "<a href=\"https://numpy.org/doc/stable/reference/random/generated/numpy.random.uniform.html?highlight=random%20uniform\" target=\"_blank\">np.random.uniform()</a> Draw samples from a uniform distribution."
   ]
  },
  {
   "cell_type": "code",
   "execution_count": 0,
   "metadata": {},
   "outputs": [],
   "source": [
    "# Import necessary libraries\n",
    "from sklearn.linear_model import LinearRegression\n",
    "import matplotlib.pyplot as plt\n",
    "import pandas as pd\n",
    "import numpy as np\n",
    "%matplotlib inline\n",
    "from scipy import stats\n",
    "from scipy.stats import norm\n"
   ]
  },
  {
   "cell_type": "code",
   "execution_count": 0,
   "metadata": {},
   "outputs": [],
   "source": [
    "# Read the data file 'Advertising.csv'\n",
    "df = pd.read_csv(\"Advertising.csv\")\n",
    "\n",
    "# Use the column \"tv\" as the predictor\n",
    "x = df[['tv']]\n",
    "\n",
    "# Use the column \"sales\" as the response\n",
    "y = df.sales.values"
   ]
  },
  {
   "cell_type": "code",
   "execution_count": 0,
   "metadata": {},
   "outputs": [],
   "source": [
    "# Take a quick look at the data\n",
    "df.head()"
   ]
  },
  {
   "cell_type": "code",
   "execution_count": 0,
   "metadata": {},
   "outputs": [],
   "source": [
    "# Initiate a Linear Regression model\n",
    "model = ___\n",
    "\n",
    "# Fit the model on the predictor and response data\n",
    "___"
   ]
  },
  {
   "cell_type": "code",
   "execution_count": 0,
   "metadata": {},
   "outputs": [],
   "source": [
    "# Take a quick look at the beta values got after model fitting\n",
    "# Use the model.intercept_ and model.coef_ for this\n",
    "b0 = ___\n",
    "b1 = ___\n",
    "print(\"Beta0 is\",b0)\n",
    "print(\"Beta1 is\", b1)"
   ]
  },
  {
   "cell_type": "code",
   "execution_count": 0,
   "metadata": {},
   "outputs": [],
   "source": [
    "# Helper code to plot the true and predicted data\n",
    "plt.plot(x,y,'o', label=\"True Data\", color='darkblue')\n",
    "plt.plot(x,model.predict(df[['tv']]), label=\"Prediction\", color='coral')\n",
    "plt.xlabel(\"TV\")\n",
    "plt.ylabel(\"Sales\")\n",
    "plt.legend()"
   ]
  },
  {
   "cell_type": "code",
   "execution_count": 0,
   "metadata": {},
   "outputs": [],
   "source": [
    "# Define 2 empty lists to store the accepted beta values in a list \n",
    "beta0_list = []\n",
    "beta1_list = []"
   ]
  },
  {
   "cell_type": "code",
   "execution_count": 0,
   "metadata": {},
   "outputs": [],
   "source": [
    "# Initialize beta0 to a resonable value based on the model parameter seen above\n",
    "beta0 = ___\n",
    "\n",
    "# Initialize beta1 to a resonable value based on the model parameter seen above\n",
    "beta1 = ___\n"
   ]
  },
  {
   "cell_type": "code",
   "execution_count": 0,
   "metadata": {},
   "outputs": [],
   "source": [
    "# Function to get the prior given the beta0 and beta1 values\n",
    "# NOTE - All the computations are done in the log space so that the numbers are managable.\n",
    "def get_log_prior(beta0,beta1):\n",
    "    \n",
    "    # The prior of beta0 is a value from a normal PDF of beta0 with mean as 100 and standard deviation as 50\n",
    "    # Take the log of these value  \n",
    "    log_prior_b0 = ___\n",
    "    \n",
    "    # The prior of beta1 is a value from a normal PDF of beta1 with mean as 1 and standard deviation as 1\n",
    "    # Take the log of this value \n",
    "    log_prior_b1 = ___\n",
    "    \n",
    "    # Compute the prior as the sum of the log priors of beta0 and beta1\n",
    "    log_prior = ___\n",
    "  \n",
    "    # Return the prior value\n",
    "    return log_prior"
   ]
  },
  {
   "cell_type": "code",
   "execution_count": 0,
   "metadata": {},
   "outputs": [],
   "source": [
    "# Compute the log-likelihood for the initial beta values \n",
    "# pay attention to the dimensions of y and x. \n",
    "log_likelihood = - np.sum( np.log( (y.reshape(-1,1)  - np.array( beta1*x  + beta0))**2) )\n",
    "\n",
    "# Get the prior of the intial beta values by calling the get_log_prior function\n",
    "log_prior = ___\n",
    "\n",
    "# Compute the log posterior of the initial beta values\n",
    "# The posterior is the sum of the log_likelihood and log_prior\n",
    "log_posterior = ___\n"
   ]
  },
  {
   "cell_type": "code",
   "execution_count": 0,
   "metadata": {},
   "outputs": [],
   "source": [
    "# Save the initial posterior value as prev_posterior for comparision later\n",
    "prev_logposterior = log_posterior\n",
    "\n",
    "# Append the initial beta values i.e. beta0 and beta1 to the list\n",
    "beta0_list.append(beta0)\n",
    "beta1_list.append(beta1)"
   ]
  },
  {
   "cell_type": "code",
   "execution_count": 0,
   "metadata": {},
   "outputs": [],
   "source": [
    "# Specify the number of sampling \"epochs\" (less than 500k)\n",
    "epochs = ___\n"
   ]
  },
  {
   "cell_type": "markdown",
   "metadata": {},
   "source": [
    "### ⏸ How does the number of samples generated affect results of MCMC?\n",
    "\n",
    "#### A. As the number of samples are increased the beta values chosen grow increasing random.\n",
    "#### B. For a smaller number of samples the beta values are closer to the true value with reduced randomness.\n",
    "#### C. The number of samples does not affect the beta values, it only depends on the prior.\n",
    "#### D. As the number of samples increase, the beta values slowly converge to their true values."
   ]
  },
  {
   "cell_type": "code",
   "execution_count": 0,
   "metadata": {},
   "outputs": [],
   "source": [
    "### edTest(test_chow1) ###\n",
    "# Submit an answer choice as a string below (eg. if you choose option C, put 'C')\n",
    "answer1 = '___'"
   ]
  },
  {
   "cell_type": "code",
   "execution_count": 0,
   "metadata": {},
   "outputs": [],
   "source": [
    "# Loop over the range of sampling \"epochs\"\n",
    "for i in range(epochs):\n",
    "\n",
    "    # Get a new beta1 value with mean as the latest element beta1 and scale as 0.1\n",
    "    beta0 = ___\n",
    "\n",
    "    # Get a new beta0 value with mean as the latest element beta0 and scale as 0.5\n",
    "    beta1 = ___\n",
    "\n",
    "    # Get the prior values for the new beta values by calling the get_log_prior function\n",
    "    log_prior = ___\n",
    "\n",
    "    # Compute P(data|w) i.e. the log-likelihood for all the data points\n",
    "    log_likelihood = ___\n",
    "\n",
    "    # To compute the posterior given the likelihood and prior\n",
    "    # The posterior is the sum of the likelihood and prior\n",
    "    log_posterior = ___\n",
    "\n",
    "    # Compute the the exponential of the ratio of the posterior given its previous value\n",
    "    # Since it is the log, the ratio is computed as the difference between the values\n",
    "    exp_ratio = ___\n",
    "\n",
    "    # If the ratio is greater than 1 then accept the new beta values in this case\n",
    "    if exp_ratio>1:\n",
    "\n",
    "        # Append the beta0 and beta1 to the beta list values\n",
    "        beta0_list.append(beta0)\n",
    "        beta1_list.append(beta1)\n",
    "\n",
    "        # Save the accepted posterior as the previous posterior\n",
    "        prev_logposterior = log_posterior\n",
    "\n",
    "    # If the ratio is less than 1 then get a random value between 0 and 1\n",
    "    else:\n",
    "        coin = ___\n",
    "\n",
    "        # Set a threshold value\n",
    "        threshold = ___\n",
    "        \n",
    "        # Check if the random value is higher than the threshold\n",
    "        # Append the beta values to the list and update the previous posterior\n",
    "        if coin > threshold:\n",
    "            beta0_list.append(beta0)\n",
    "            beta1_list.append(beta1)\n",
    "            prev_logposterior = log_posterior\n"
   ]
  },
  {
   "cell_type": "markdown",
   "metadata": {},
   "source": [
    "### ⏸ If the threshold is set to a higher value, new beta values are rejected more often if they do not improve the convergence to the true value\n",
    "\n",
    "### The statement above is:\n",
    "\n",
    "#### A. True for all cases\n",
    "#### B. False for all cases\n",
    "#### C. True only when the number of samples is less\n",
    "#### D. True only when prior is extremely far from the real value"
   ]
  },
  {
   "cell_type": "code",
   "execution_count": 0,
   "metadata": {},
   "outputs": [],
   "source": [
    "### edTest(test_chow2) ###\n",
    "# Submit an answer choice as a string below (eg. if you choose option C, put 'C')\n",
    "answer2 = '___'"
   ]
  },
  {
   "cell_type": "code",
   "execution_count": 0,
   "metadata": {},
   "outputs": [],
   "source": [
    "# The number of data points to consider after the beta list has been populated\n",
    "burn_rate = int(len(beta0_list)*0.3)\n"
   ]
  },
  {
   "cell_type": "code",
   "execution_count": 0,
   "metadata": {},
   "outputs": [],
   "source": [
    "### edTest(test_chow3) ###\n",
    "# Check posterior mean for beta0 and beta1 \n",
    "print(np.mean(beta0_list[burn_rate:]), np.mean(beta1_list[burn_rate:]))\n"
   ]
  },
  {
   "cell_type": "code",
   "execution_count": 0,
   "metadata": {},
   "outputs": [],
   "source": [
    "# Helper code to plot the histogram of the beta values\n",
    "\n",
    "# Plot the histogram of the beta0 values\n",
    "fig, (ax1, ax2) = plt.subplots(1, 2, figsize=(15, 6))\n",
    "ax1.hist(beta0_list[burn_rate:], color='#B2D7D0',edgecolor=\"black\", linewidth=1)\n",
    "ax1.set_xlabel(\"BETA 0\", fontsize=14)\n",
    "ax1.set_ylabel(\"FREQUENCY\", fontsize=14);\n",
    "\n",
    "# Plot the histogram of the beta1 values\n",
    "ax2.hist(beta1_list[burn_rate:], color='#EFAEA4',edgecolor=\"black\", linewidth=1)\n",
    "ax2.set_xlabel(\"BETA 1\", fontsize=14)\n",
    "ax2.set_ylabel(\"FREQUENCY\", fontsize=14);"
   ]
  }
 ],
 "metadata": {
  "kernelspec": {
   "display_name": "Python 3",
   "language": "python",
   "name": "python3"
  },
  "language_info": {
   "codemirror_mode": {
    "name": "ipython",
    "version": 3
   },
   "file_extension": ".py",
   "mimetype": "text/x-python",
   "name": "python",
   "nbconvert_exporter": "python",
   "pygments_lexer": "ipython3",
   "version": "3.8.5"
  }
 },
 "nbformat": 4,
 "nbformat_minor": 4
}
