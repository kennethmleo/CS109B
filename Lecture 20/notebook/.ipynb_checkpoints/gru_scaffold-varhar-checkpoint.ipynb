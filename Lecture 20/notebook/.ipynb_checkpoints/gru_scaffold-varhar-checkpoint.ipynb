{
 "cells": [
  {
   "cell_type": "markdown",
   "metadata": {},
   "source": [
    "## Title :\n",
    "Vanishing Gradients\n",
    "\n",
    "## Description :\n",
    "The goal of this exercise is to understand the vanishing gradient problem in training RNNs and using various methods to improve training.\n",
    "\n",
    "In order to do this exercise, we will use the IMDB movie review dataset to perform sentiment analysis.\n",
    "\n",
    "Your final comparison for the trace plot may look something like this:\n",
    "\n",
    "<img src=\"../fig/fig.png\" style=\"width: 500px;\">\n",
    "\n",
    "## Instructions:\n",
    "- Read the IMDB dataset from the helper code given.\n",
    "- Take a quick look at your training inputs and labels.\n",
    "- Pad the values to a fix number `max_words` in-order to have sequences of the same size.\n",
    "- First post pad the inputs with `padding='post'` i.e sequences smaller than `max_words` will be followed by zero padding.\n",
    "- Build, compile and fit a Vanilla RNN and evaluate it on the test set.\n",
    "- Now refit the model, but this time post pad the inputs with `padding='pre'`\n",
    "- Again evaluate the model performance on the test set.\n",
    "- Finally, rebuild a model with the Gated Recurrent Unit and fit and evaluate on the training and test set respectively.\n",
    "- Compare the performance of all three models similar to the table above.\n",
    "\n",
    "## Hints:\n",
    "\n",
    "<a href=\"https://www.tensorflow.org/api_docs/python/tf/keras/preprocessing/sequence/pad_sequences\" target=\"_blank\">tensorflow.keras.preprocessing.sequence.pad_sequences()</a> Pad the sequences to same length - pre/post."
   ]
  },
  {
   "cell_type": "markdown",
   "metadata": {},
   "source": [
    "## Vanilla RNNs\n",
    "\n",
    "We will use Vanilla Recurrent Neural Networks to perform sentiment analysis in `tensorflow.keras` using imdb movie reviews dataset.\n",
    "The dataset is a subset consisting of 10,000 reviews in the training and test set each. [see here for more info](https://www.tensorflow.org/datasets/catalog/imdb_reviews)"
   ]
  },
  {
   "cell_type": "code",
   "execution_count": 1,
   "metadata": {},
   "outputs": [],
   "source": [
    "# Import required libraries\n",
    "from tensorflow.keras.datasets import imdb\n",
    "from tensorflow.keras.preprocessing import sequence\n",
    "from tensorflow.keras import Sequential\n",
    "from tensorflow.keras.layers import Embedding, SimpleRNN, Dense,GRU\n",
    "import pickle\n",
    "import numpy as np\n",
    "import matplotlib.pyplot as plt\n",
    "from prettytable import PrettyTable\n",
    "from pprint import pprint"
   ]
  },
  {
   "cell_type": "code",
   "execution_count": 2,
   "metadata": {},
   "outputs": [],
   "source": [
    "# We fix a vocabulary size of 5000\n",
    "# Use the code below to call a small subset of the imdb dataset\n",
    "# We keep the vocabulary size fixed because it was used to curate the sub-dataset\n",
    "vocabulary_size = 5000\n",
    "with open('imdb_mini_new.pkl','rb') as f:\n",
    "    X_train, y_train, X_test, y_test = pickle.load(f)\n"
   ]
  },
  {
   "cell_type": "markdown",
   "metadata": {},
   "source": [
    "#### Inspect a sample review and its label"
   ]
  },
  {
   "cell_type": "code",
   "execution_count": 3,
   "metadata": {},
   "outputs": [
    {
     "name": "stdout",
     "output_type": "stream",
     "text": [
      "---review---\n",
      "[1, 14, 22, 16, 43, 530, 973, 1622, 1385, 65, 458, 4468, 66, 3941, 4, 173, 36, 256, 5, 25, 100, 43, 838, 112, 50, 670, 2, 9, 35, 480, 284, 5, 150, 4, 172, 112, 167, 2, 336, 385, 39, 4, 172, 4536, 1111, 17, 546, 38, 13, 447, 4, 192, 50, 16, 6, 147, 2025, 19, 14, 22, 4, 1920, 4613, 469, 4, 22, 71, 87, 12, 16, 43, 530, 38, 76, 15, 13, 1247, 4, 22, 17, 515, 17, 12, 16, 626, 18, 2, 5, 62, 386, 12, 8, 316, 8, 106, 5, 4, 2223, 2, 16, 480, 66, 3785, 33, 4, 130, 12, 16, 38, 619, 5, 25, 124, 51, 36, 135, 48, 25, 1415, 33, 6, 22, 12, 215, 28, 77, 52, 5, 14, 407, 16, 82, 2, 8, 4, 107, 117, 2, 15, 256, 4, 2, 7, 3766, 5, 723, 36, 71, 43, 530, 476, 26, 400, 317, 46, 7, 4, 2, 1029, 13, 104, 88, 4, 381, 15, 297, 98, 32, 2071, 56, 26, 141, 6, 194, 2, 18, 4, 226, 22, 21, 134, 476, 26, 480, 5, 144, 30, 2, 18, 51, 36, 28, 224, 92, 25, 104, 4, 226, 65, 16, 38, 1334, 88, 12, 16, 283, 5, 16, 4472, 113, 103, 32, 15, 16, 2, 19, 178, 32]\n",
      "---label---\n",
      "1\n"
     ]
    }
   ],
   "source": [
    "# Run the code below to see the first tokenized review and the label\n",
    "print('---review---')\n",
    "print(X_train[0])\n",
    "print('---label---')\n",
    "print(y_train[0])"
   ]
  },
  {
   "cell_type": "code",
   "execution_count": 4,
   "metadata": {},
   "outputs": [
    {
     "name": "stdout",
     "output_type": "stream",
     "text": [
      "'---review with words---'\n",
      "('<START> this film was just brilliant casting location scenery story '\n",
      " \"direction everyone's really suited the part they played and you could just \"\n",
      " 'imagine being there robert <UNK> is an amazing actor and now the same being '\n",
      " 'director <UNK> father came from the same scottish island as myself so i '\n",
      " 'loved the fact there was a real connection with this film the witty remarks '\n",
      " 'throughout the film were great it was just brilliant so much that i bought '\n",
      " 'the film as soon as it was released for <UNK> and would recommend it to '\n",
      " 'everyone to watch and the fly <UNK> was amazing really cried at the end it '\n",
      " 'was so sad and you know what they say if you cry at a film it must have been '\n",
      " 'good and this definitely was also <UNK> to the two little <UNK> that played '\n",
      " 'the <UNK> of norman and paul they were just brilliant children are often '\n",
      " 'left out of the <UNK> list i think because the stars that play them all '\n",
      " 'grown up are such a big <UNK> for the whole film but these children are '\n",
      " \"amazing and should be <UNK> for what they have done don't you think the \"\n",
      " \"whole story was so lovely because it was true and was someone's life after \"\n",
      " 'all that was <UNK> with us all')\n",
      "'---label---'\n",
      "1\n"
     ]
    }
   ],
   "source": [
    "# You can get the word2id mapping by\n",
    "# using the imdb.get_word_index() function\n",
    "\n",
    "word2id = imdb.get_word_index()\n",
    "# We need to adjust the mapping by 3 because of tensorflow.keras preprocessing\n",
    "# more here: https://stackoverflow.com/questions/42821330/restore-original-text-from-keras-s-imdb-dataset\n",
    "word2id = {k:(v+3) for k,v in word2id.items()}\n",
    "word2id[\"<PAD>\"] = 0\n",
    "word2id[\"<START>\"] = 1\n",
    "word2id[\"<UNK>\"] = 2\n",
    "word2id[\"<UNUSED>\"] = 3\n",
    "\n",
    "# Reversing the key,value pair will give the id2word\n",
    "id2word = {i: word for word, i in word2id.items()}\n",
    "pprint('---review with words---')\n",
    "pprint(\" \".join([id2word[i] for i in X_train[0]]))\n",
    "pprint('---label---')\n",
    "pprint(y_train[0]);"
   ]
  },
  {
   "cell_type": "markdown",
   "metadata": {},
   "source": [
    "Maximum review length and minimum review length"
   ]
  },
  {
   "cell_type": "markdown",
   "metadata": {},
   "source": [
    "### ⏸ The `<UNK>` tag is reserved for?\n",
    "\n",
    "\n",
    "#### A. Special characters\n",
    "#### B. Out of vocabulary words\n",
    "#### C. Start of sentence\n",
    "#### D. End of sentence"
   ]
  },
  {
   "cell_type": "code",
   "execution_count": 5,
   "metadata": {},
   "outputs": [],
   "source": [
    "### edTest(test_chow1) ###\n",
    "# Submit an answer choice as a string below (eg. if you choose option C, put 'C')\n",
    "answer1 = '___'"
   ]
  },
  {
   "cell_type": "code",
   "execution_count": 6,
   "metadata": {},
   "outputs": [
    {
     "name": "stdout",
     "output_type": "stream",
     "text": [
      "Maximum review length: 2494\n",
      "Minimum review length: 7\n"
     ]
    }
   ],
   "source": [
    "# For training we need our sequences to be of fixed length, but the reviews\n",
    "# are of different sizes\n",
    "print(f'Maximum review length: {len(max([i for i in X_train]+[i for i in X_test], key=len))}')\n",
    "print(f'Minimum review length: {len(min([i for i in X_train]+[i for i in X_test], key=len))}')"
   ]
  },
  {
   "cell_type": "code",
   "execution_count": 7,
   "metadata": {},
   "outputs": [],
   "source": [
    "# We also create two indices for short and long reviews\n",
    "# we will use this later\n",
    "idx_short = [i for i,val in enumerate(X_train) if len(val)<100]\n",
    "idx_long = [i for i,val in enumerate(X_train) if len(val)>500]"
   ]
  },
  {
   "cell_type": "markdown",
   "metadata": {},
   "source": [
    "### Pad sequences\n",
    "\n",
    "In order to feed this data into our RNN, all input documents must have the same length. We will limit the maximum review length to max_words by truncating longer reviews and padding shorter reviews. We can accomplish this using the pad_sequences() function in `tensorflow.keras`. For now, set max_words to 500."
   ]
  },
  {
   "cell_type": "markdown",
   "metadata": {},
   "source": [
    "### ⏸ If we use *post-padding* on a sequence, the new sequence is\"\n",
    "\n",
    "\n",
    "#### A. \"Padded with zeros before the start of original sequence\"\n",
    "#### B. \"Padded with zeros after the end of the original sequence\"\n",
    "#### C. \"Padded with ones before the start of original sequence\"\n",
    "#### D. \"Padded with ones after the end of the original sequence\""
   ]
  },
  {
   "cell_type": "code",
   "execution_count": 8,
   "metadata": {},
   "outputs": [],
   "source": [
    "### edTest(test_chow2) ###\n",
    "# Submit an answer choice as a string below (eg. if you choose option C, put 'C')\n",
    "answer2 = '___'"
   ]
  },
  {
   "cell_type": "code",
   "execution_count": 9,
   "metadata": {},
   "outputs": [],
   "source": [
    "# We will clip large reviews and pad smaller reviews to 500 words\n",
    "max_words = 500\n",
    "# We can pad the smaller sequences with 0s before, or after.\n",
    "# This choice can severely affect network performance\n",
    "# In the first case we, will pad after the sequence \n",
    "# Please utilize sequence.pad_sequences()\n",
    "postpad_X_train = sequence.pad_sequences(X_train, maxlen=max_words, padding='post', truncating='post')\n",
    "postpad_X_test = sequence.pad_sequences(X_test, maxlen=max_words, padding='post', truncating='post')"
   ]
  },
  {
   "cell_type": "markdown",
   "metadata": {},
   "source": [
    "### RNN model for sentiment analysis\n",
    "\n",
    "We build the model architecture in the code cell below. We have imported some layers from `tensorflow.keras` that you might need but feel free to use any other layers / transformations you like.\n",
    "\n",
    "Remember that our input is a sequence of words (technically, integer word IDs) of maximum length = max_words, and our output is a binary sentiment label (0 or 1)."
   ]
  },
  {
   "cell_type": "code",
   "execution_count": 10,
   "metadata": {},
   "outputs": [],
   "source": [
    "def model_maker(summary=True,gru=False):\n",
    "# One layer RNN model with 32 rnn cells\n",
    "    embedding_size=32\n",
    "    model=Sequential()\n",
    "    model.add(Embedding(vocabulary_size, embedding_size))\n",
    "    \n",
    "    # We can specify if we want the GRU cell or the vanilla RNN cell\n",
    "    if gru:\n",
    "        model.add(GRU(32))\n",
    "    else:\n",
    "        model.add(SimpleRNN(32))\n",
    "    model.add(Dense(1, activation='sigmoid'))\n",
    "    if summary:\n",
    "        print(model.summary())\n",
    "        \n",
    "    # model compile step\n",
    "    model.compile(loss='binary_crossentropy', \n",
    "                 optimizer='adam', \n",
    "                 metrics=['accuracy'])    \n",
    "    return model"
   ]
  },
  {
   "cell_type": "markdown",
   "metadata": {},
   "source": [
    "## Trace Plot analysis\n",
    "We expect the postpadded model to perform train slowly because of vanishing gradients.\n",
    "Let us investigate the cause by training two models,\n",
    "- One with shorter reviews (that were post padded) using `idx_short`\n",
    "- The other with longer reviews (that were truncated) using `idx_long`"
   ]
  },
  {
   "cell_type": "code",
   "execution_count": 11,
   "metadata": {},
   "outputs": [
    {
     "name": "stderr",
     "output_type": "stream",
     "text": [
      "2025-10-23 13:32:30.909463: I metal_plugin/src/device/metal_device.cc:1154] Metal device set to: Apple M2\n",
      "2025-10-23 13:32:30.909663: I metal_plugin/src/device/metal_device.cc:296] systemMemory: 8.00 GB\n",
      "2025-10-23 13:32:30.909680: I metal_plugin/src/device/metal_device.cc:313] maxCacheSize: 2.67 GB\n",
      "2025-10-23 13:32:30.909725: I tensorflow/core/common_runtime/pluggable_device/pluggable_device_factory.cc:305] Could not identify NUMA node of platform GPU ID 0, defaulting to 0. Your kernel may not have been built with NUMA support.\n",
      "2025-10-23 13:32:30.909753: I tensorflow/core/common_runtime/pluggable_device/pluggable_device_factory.cc:271] Created TensorFlow device (/job:localhost/replica:0/task:0/device:GPU:0 with 0 MB memory) -> physical PluggableDevice (device: 0, name: METAL, pci bus id: <undefined>)\n"
     ]
    }
   ],
   "source": [
    "# We build two new models with vanilla RNNs\n",
    "model_short = model_maker(summary=False)\n",
    "model_long = model_maker(summary=False)"
   ]
  },
  {
   "cell_type": "code",
   "execution_count": 14,
   "metadata": {},
   "outputs": [
    {
     "name": "stderr",
     "output_type": "stream",
     "text": [
      "0epoch [00:00, ?epoch/s]\n",
      "  0%|                                                 | 0/10 [00:00<?, ?epoch/s]\n",
      "  0%|                                            | 0.00/5.00 [00:00<?, ?batch/s]\u001b[A2025-10-23 13:34:23.094282: I tensorflow/core/grappler/optimizers/custom_graph_optimizer_registry.cc:117] Plugin optimizer for device_type GPU is enabled.\n",
      "\n",
      " 20%|██▏        | 1.00/5.00 [01:56<07:44, 116s/batch, accuracy=0.48, loss=0.694]\u001b[A\n",
      " 40%|████      | 2.00/5.00 [03:37<05:23, 108s/batch, accuracy=0.523, loss=0.693]\u001b[A\n",
      " 60%|██████    | 3.00/5.00 [05:50<03:57, 119s/batch, accuracy=0.524, loss=0.691]\u001b[A\n",
      " 80%|████████  | 4.00/5.00 [07:48<01:58, 119s/batch, accuracy=0.523, loss=0.691]\u001b[A\n",
      " 10%|█         | 1/10 [09:28<1:25:20, 568.92s/epoch, accuracy=0.528, loss=0.691]\u001b[A\n",
      "  0%|                | 0.00/5.00 [00:00<?, ?batch/s, accuracy=0.528, loss=0.691]\u001b[A\n",
      " 20%|██▏        | 1.00/5.00 [01:45<07:01, 105s/batch, accuracy=0.539, loss=0.69]\u001b[A\n",
      " 40%|████      | 2.00/5.00 [03:39<05:32, 111s/batch, accuracy=0.551, loss=0.689]\u001b[A\n",
      " 60%|██████    | 3.00/5.00 [05:22<03:33, 107s/batch, accuracy=0.555, loss=0.688]\u001b[A\n",
      " 80%|████████▊  | 4.00/5.00 [07:06<01:45, 106s/batch, accuracy=0.55, loss=0.689]\u001b[A\n",
      " 20%|██        | 2/10 [18:20<1:12:55, 546.99s/epoch, accuracy=0.554, loss=0.688]\u001b[A\n",
      "  0%|                | 0.00/5.00 [00:00<?, ?batch/s, accuracy=0.554, loss=0.688]\u001b[A\n",
      " 20%|██▏        | 1.00/5.00 [01:50<07:21, 110s/batch, accuracy=0.542, loss=0.69]\u001b[A\n",
      " 40%|████      | 2.00/5.00 [03:40<05:31, 110s/batch, accuracy=0.547, loss=0.689]\u001b[A\n",
      " 60%|██████    | 3.00/5.00 [05:34<03:44, 112s/batch, accuracy=0.551, loss=0.688]\u001b[A\n",
      " 80%|████████  | 4.00/5.00 [07:28<01:52, 113s/batch, accuracy=0.555, loss=0.687]\u001b[A\n",
      " 30%|███       | 3/10 [27:39<1:04:28, 552.63s/epoch, accuracy=0.554, loss=0.687]\u001b[A\n",
      "  0%|                | 0.00/5.00 [00:00<?, ?batch/s, accuracy=0.554, loss=0.687]\u001b[A\n",
      " 20%|██▏        | 1.00/5.00 [01:46<07:06, 107s/batch, accuracy=0.58, loss=0.681]\u001b[A\n",
      " 40%|████▍      | 2.00/5.00 [03:36<05:25, 108s/batch, accuracy=0.547, loss=0.69]\u001b[A\n",
      " 60%|██████    | 3.00/5.00 [05:37<03:48, 114s/batch, accuracy=0.552, loss=0.689]\u001b[A\n",
      " 80%|████████  | 4.00/5.00 [07:23<01:50, 111s/batch, accuracy=0.551, loss=0.689]\u001b[A\n",
      " 40%|████▊       | 4/10 [36:50<55:11, 551.85s/epoch, accuracy=0.554, loss=0.688]\u001b[A\n",
      "  0%|                | 0.00/5.00 [00:00<?, ?batch/s, accuracy=0.554, loss=0.688]\u001b[A\n",
      " 20%|██        | 1.00/5.00 [01:46<07:04, 106s/batch, accuracy=0.542, loss=0.691]\u001b[A\n",
      " 40%|████      | 2.00/5.00 [03:36<05:26, 109s/batch, accuracy=0.537, loss=0.692]\u001b[A\n",
      " 60%|██████▌    | 3.00/5.00 [05:21<03:33, 107s/batch, accuracy=0.546, loss=0.69]\u001b[A\n",
      " 80%|████████  | 4.00/5.00 [07:05<01:45, 106s/batch, accuracy=0.556, loss=0.687]\u001b[A\n",
      " 50%|██████      | 5/10 [45:46<45:31, 546.26s/epoch, accuracy=0.554, loss=0.688]\u001b[A\n",
      "  0%|                | 0.00/5.00 [00:00<?, ?batch/s, accuracy=0.554, loss=0.688]\u001b[A\n",
      " 20%|██        | 1.00/5.00 [01:45<07:00, 105s/batch, accuracy=0.573, loss=0.683]\u001b[A\n",
      " 40%|████      | 2.00/5.00 [03:23<05:03, 101s/batch, accuracy=0.548, loss=0.689]\u001b[A\n",
      " 60%|██████    | 3.00/5.00 [05:24<03:40, 110s/batch, accuracy=0.554, loss=0.687]\u001b[A\n",
      " 80%|████████  | 4.00/5.00 [07:20<01:52, 112s/batch, accuracy=0.553, loss=0.688]\u001b[A\n",
      " 60%|███████▏    | 6/10 [54:46<36:15, 543.95s/epoch, accuracy=0.554, loss=0.687]\u001b[A\n",
      "  0%|                | 0.00/5.00 [00:00<?, ?batch/s, accuracy=0.554, loss=0.687]\u001b[A\n",
      " 20%|██        | 1.00/5.00 [01:43<06:55, 104s/batch, accuracy=0.564, loss=0.685]\u001b[A\n",
      " 40%|████      | 2.00/5.00 [03:42<05:37, 113s/batch, accuracy=0.565, loss=0.685]\u001b[A\n",
      " 60%|██████    | 3.00/5.00 [05:52<04:01, 121s/batch, accuracy=0.558, loss=0.686]\u001b[A\n",
      " 80%|████████  | 4.00/5.00 [08:03<02:04, 125s/batch, accuracy=0.557, loss=0.687]\u001b[A\n",
      " 70%|███████   | 7/10 [1:04:45<28:05, 561.93s/epoch, accuracy=0.554, loss=0.687]\u001b[A\n",
      "  0%|                | 0.00/5.00 [00:00<?, ?batch/s, accuracy=0.554, loss=0.687]\u001b[A\n",
      " 20%|██        | 1.00/5.00 [01:41<06:47, 102s/batch, accuracy=0.548, loss=0.688]\u001b[A\n",
      " 40%|████▍      | 2.00/5.00 [03:22<05:03, 101s/batch, accuracy=0.542, loss=0.69]\u001b[A\n",
      " 60%|██████    | 3.00/5.00 [05:08<03:26, 103s/batch, accuracy=0.555, loss=0.687]\u001b[A\n",
      " 80%|████████  | 4.00/5.00 [06:55<01:44, 105s/batch, accuracy=0.555, loss=0.687]\u001b[A\n",
      " 80%|████████  | 8/10 [1:13:23<18:16, 548.11s/epoch, accuracy=0.554, loss=0.687]\u001b[A\n",
      "  0%|                | 0.00/5.00 [00:00<?, ?batch/s, accuracy=0.554, loss=0.687]\u001b[A\n",
      " 20%|██        | 1.00/5.00 [01:45<07:01, 105s/batch, accuracy=0.569, loss=0.685]\u001b[A\n",
      " 40%|████      | 2.00/5.00 [03:30<05:16, 105s/batch, accuracy=0.552, loss=0.688]\u001b[A\n",
      " 60%|██████    | 3.00/5.00 [05:32<03:45, 113s/batch, accuracy=0.555, loss=0.687]\u001b[A\n",
      " 80%|████████  | 4.00/5.00 [07:20<01:50, 111s/batch, accuracy=0.555, loss=0.687]\u001b[A\n",
      " 90%|█████████ | 9/10 [1:22:26<09:06, 546.26s/epoch, accuracy=0.554, loss=0.687]\u001b[A\n",
      "  0%|                | 0.00/5.00 [00:00<?, ?batch/s, accuracy=0.554, loss=0.687]\u001b[A\n",
      " 20%|██        | 1.00/5.00 [01:46<07:04, 106s/batch, accuracy=0.581, loss=0.682]\u001b[A\n",
      " 40%|████      | 2.00/5.00 [03:33<05:19, 107s/batch, accuracy=0.566, loss=0.685]\u001b[A\n",
      " 60%|██████    | 3.00/5.00 [05:19<03:33, 107s/batch, accuracy=0.561, loss=0.686]\u001b[A\n",
      " 80%|████████  | 4.00/5.00 [07:08<01:47, 108s/batch, accuracy=0.554, loss=0.687]\u001b[A\n",
      "100%|█████████| 10/10 [1:31:18<00:00, 541.95s/epoch, accuracy=0.554, loss=0.687]\u001b[A\n",
      "100%|█████████| 10/10 [1:31:18<00:00, 547.83s/epoch, accuracy=0.554, loss=0.687]\u001b[A\n"
     ]
    }
   ],
   "source": [
    "# First we train `model_short` with short reviews\n",
    "# set epochs to 10\n",
    "from tqdm.keras import TqdmCallback\n",
    "\n",
    "X_short = postpad_X_train[idx_short]\n",
    "y_short = y_train[idx_short]\n",
    "epochs = 10\n",
    "history_short = model_short.fit(\n",
    "    X_short, y_short,\n",
    "    epochs=epochs,\n",
    "    batch_size=640,\n",
    "    callbacks=[TqdmCallback(verbose=1)],\n",
    "    verbose=0\n",
    ")"
   ]
  },
  {
   "cell_type": "code",
   "execution_count": 15,
   "metadata": {},
   "outputs": [
    {
     "name": "stderr",
     "output_type": "stream",
     "text": [
      "0epoch [00:00, ?epoch/s]\n",
      "  0%|                                                 | 0/10 [00:00<?, ?epoch/s]\n",
      "  0%|                                            | 0.00/4.00 [00:00<?, ?batch/s]\u001b[A\n",
      " 25%|███         | 1.00/4.00 [01:42<05:07, 103s/batch, accuracy=0.486, loss=0.7]\u001b[A\n",
      " 50%|█████     | 2.00/4.00 [03:32<03:33, 107s/batch, accuracy=0.492, loss=0.697]\u001b[A\n",
      " 75%|███████▌  | 3.00/4.00 [05:42<01:57, 118s/batch, accuracy=0.513, loss=0.694]\u001b[A\n",
      " 10%|█          | 1/10 [07:41<1:09:12, 461.44s/epoch, accuracy=0.51, loss=0.694]\u001b[A\n",
      "  0%|                 | 0.00/4.00 [00:00<?, ?batch/s, accuracy=0.51, loss=0.694]\u001b[A\n",
      " 25%|██▌       | 1.00/4.00 [02:05<06:15, 125s/batch, accuracy=0.608, loss=0.665]\u001b[A\n",
      " 50%|█████     | 2.00/4.00 [04:28<04:31, 136s/batch, accuracy=0.637, loss=0.656]\u001b[A\n",
      " 75%|███████▌  | 3.00/4.00 [06:10<02:00, 121s/batch, accuracy=0.656, loss=0.652]\u001b[A\n",
      " 20%|██        | 2/10 [15:34<1:02:26, 468.26s/epoch, accuracy=0.658, loss=0.652]\u001b[A\n",
      "  0%|                | 0.00/4.00 [00:00<?, ?batch/s, accuracy=0.658, loss=0.652]\u001b[A\n",
      " 25%|██▌       | 1.00/4.00 [02:01<06:04, 122s/batch, accuracy=0.777, loss=0.618]\u001b[A\n",
      " 50%|█████     | 2.00/4.00 [04:12<04:13, 127s/batch, accuracy=0.777, loss=0.615]\u001b[A\n",
      " 75%|████████▎  | 3.00/4.00 [06:01<01:58, 119s/batch, accuracy=0.78, loss=0.613]\u001b[A\n",
      " 30%|███▌        | 3/10 [23:31<55:04, 472.08s/epoch, accuracy=0.778, loss=0.612]\u001b[A\n",
      "  0%|                | 0.00/4.00 [00:00<?, ?batch/s, accuracy=0.778, loss=0.612]\u001b[A\n",
      " 25%|██▌       | 1.00/4.00 [01:55<05:47, 116s/batch, accuracy=0.845, loss=0.567]\u001b[A\n",
      " 50%|█████     | 2.00/4.00 [03:54<03:55, 118s/batch, accuracy=0.846, loss=0.567]\u001b[A\n",
      " 75%|███████▌  | 3.00/4.00 [06:05<02:03, 123s/batch, accuracy=0.842, loss=0.564]\u001b[A\n",
      " 40%|████▊       | 4/10 [32:59<51:00, 510.07s/epoch, accuracy=0.846, loss=0.561]\u001b[A\n",
      "  0%|                | 0.00/4.00 [00:00<?, ?batch/s, accuracy=0.846, loss=0.561]\u001b[A\n",
      " 25%|██▌       | 1.00/4.00 [03:13<09:39, 193s/batch, accuracy=0.897, loss=0.521]\u001b[A\n",
      " 50%|█████     | 2.00/4.00 [06:56<07:01, 211s/batch, accuracy=0.894, loss=0.518]\u001b[A\n",
      " 75%|███████▌  | 3.00/4.00 [10:15<03:25, 206s/batch, accuracy=0.894, loss=0.509]\u001b[A\n",
      " 50%|██████      | 5/10 [47:17<52:58, 635.74s/epoch, accuracy=0.897, loss=0.507]\u001b[A\n",
      "  0%|                | 0.00/4.00 [00:00<?, ?batch/s, accuracy=0.897, loss=0.507]\u001b[A\n",
      " 25%|██▌       | 1.00/4.00 [04:21<13:05, 262s/batch, accuracy=0.908, loss=0.472]\u001b[A\n",
      " 50%|█████     | 2.00/4.00 [07:53<07:44, 232s/batch, accuracy=0.928, loss=0.462]\u001b[A\n",
      " 75%|███████▌  | 3.00/4.00 [11:29<03:44, 225s/batch, accuracy=0.939, loss=0.452]\u001b[A\n",
      " 60%|██████▌    | 6/10 [1:02:36<48:47, 731.88s/epoch, accuracy=0.938, loss=0.45]\u001b[A\n",
      "  0%|                 | 0.00/4.00 [00:00<?, ?batch/s, accuracy=0.938, loss=0.45]\u001b[A\n",
      " 25%|██▌       | 1.00/4.00 [04:02<12:07, 243s/batch, accuracy=0.958, loss=0.402]\u001b[A\n",
      " 50%|█████     | 2.00/4.00 [07:52<07:50, 235s/batch, accuracy=0.962, loss=0.394]\u001b[A\n",
      " 75%|███████▌  | 3.00/4.00 [11:10<03:38, 218s/batch, accuracy=0.965, loss=0.388]\u001b[A\n",
      " 70%|███████   | 7/10 [1:17:11<38:56, 778.78s/epoch, accuracy=0.963, loss=0.387]\u001b[A\n",
      "  0%|                | 0.00/4.00 [00:00<?, ?batch/s, accuracy=0.963, loss=0.387]\u001b[A\n",
      " 25%|██▌       | 1.00/4.00 [03:38<10:56, 219s/batch, accuracy=0.975, loss=0.338]\u001b[A\n",
      " 50%|█████     | 2.00/4.00 [07:05<07:02, 211s/batch, accuracy=0.984, loss=0.333]\u001b[A\n",
      " 75%|███████▌  | 3.00/4.00 [10:25<03:26, 206s/batch, accuracy=0.982, loss=0.331]\u001b[A\n",
      " 80%|████████  | 8/10 [1:30:54<26:25, 792.72s/epoch, accuracy=0.982, loss=0.329]\u001b[A\n",
      "  0%|                | 0.00/4.00 [00:00<?, ?batch/s, accuracy=0.982, loss=0.329]\u001b[A\n",
      " 25%|██▌       | 1.00/4.00 [03:24<10:14, 205s/batch, accuracy=0.994, loss=0.284]\u001b[A\n",
      " 50%|█████     | 2.00/4.00 [06:56<06:57, 209s/batch, accuracy=0.994, loss=0.282]\u001b[A\n",
      " 75%|███████▌  | 3.00/4.00 [10:33<03:32, 212s/batch, accuracy=0.994, loss=0.277]\u001b[A\n",
      " 90%|█████████ | 9/10 [1:44:51<13:26, 806.75s/epoch, accuracy=0.994, loss=0.276]\u001b[A\n",
      "  0%|                | 0.00/4.00 [00:00<?, ?batch/s, accuracy=0.994, loss=0.276]\u001b[A\n",
      " 25%|██▌       | 1.00/4.00 [03:30<10:31, 210s/batch, accuracy=0.992, loss=0.254]\u001b[A\n",
      " 50%|█████     | 2.00/4.00 [07:09<07:11, 216s/batch, accuracy=0.991, loss=0.246]\u001b[A\n",
      " 75%|███████▌  | 3.00/4.00 [10:40<03:33, 214s/batch, accuracy=0.994, loss=0.239]\u001b[A\n",
      "100%|█████████| 10/10 [1:58:59<00:00, 819.43s/epoch, accuracy=0.994, loss=0.236]\u001b[A\n",
      "100%|█████████| 10/10 [1:58:59<00:00, 713.98s/epoch, accuracy=0.994, loss=0.236]\u001b[A\n"
     ]
    }
   ],
   "source": [
    "# Then we train `model_long` with short reviews\n",
    "\n",
    "X_long = postpad_X_train[idx_long]\n",
    "y_long = y_train[idx_long]\n",
    "history_long = model_long.fit(X_long,y_long, epochs=epochs,batch_size=640,callbacks=[TqdmCallback(verbose=1)], verbose=0);"
   ]
  },
  {
   "cell_type": "code",
   "execution_count": 16,
   "metadata": {},
   "outputs": [
    {
     "name": "stdout",
     "output_type": "stream",
     "text": [
      "(2773, 500) (2773,) (2108, 500) (2108,)\n"
     ]
    }
   ],
   "source": [
    "### edTest(test_chow2_1) ###\n",
    "X_short_shape, y_short_shape = X_short.shape, y_short.shape\n",
    "X_long_shape, y_long_shape = X_long.shape, y_long.shape\n",
    "print(X_short_shape, y_short_shape,X_long_shape, y_long_shape)"
   ]
  },
  {
   "cell_type": "code",
   "execution_count": 17,
   "metadata": {},
   "outputs": [
    {
     "data": {
      "image/png": "[encoded data removed]",
      "text/plain": [
       "<Figure size 800x600 with 1 Axes>"
      ]
     },
     "metadata": {},
     "output_type": "display_data"
    }
   ],
   "source": [
    "# Helper function to plot the data\n",
    "# Plot the MSE of the model\n",
    "plt.rcParams[\"figure.figsize\"] = (8,6)\n",
    "plt.title(\"Padding='post'\",fontsize=20)\n",
    "plt.semilogy(history_short.history['loss'], label='Shorter reviews', color='#FF9A98', linewidth=3)\n",
    "plt.semilogy(history_long.history['loss'],  label='Longer reviews', color='#75B594', linewidth=3)\n",
    "plt.legend()\n",
    "\n",
    "# Set the axes labels\n",
    "plt.xlabel('Epochs',fontsize=14)\n",
    "plt.xticks(range(1,epochs,4))\n",
    "plt.ylabel('MSE Loss',fontsize=14)\n",
    "plt.legend(fontsize=14)\n",
    "plt.show()"
   ]
  },
  {
   "cell_type": "markdown",
   "metadata": {},
   "source": [
    "## Pre-padding sequences\n",
    "\n",
    "As we can see, the vanishing gradient problem is real and can severely affect the training of our network. The short review network negligibly trains, whereas the longer review model trains very well.\n",
    "To counter this, we will now *pre-pad* the shorter sequences."
   ]
  },
  {
   "cell_type": "code",
   "execution_count": 20,
   "metadata": {},
   "outputs": [],
   "source": [
    "# We can pre-pad by using `sequence.pad_sequences` with `padding='pre'`\n",
    "max_words = 500\n",
    "prepad_X_train = sequence.pad_sequences(X_train, maxlen=max_words, padding='pre', truncating='pre')\n",
    "prepad_X_test = sequence.pad_sequences(X_test, maxlen=max_words, padding='pre', truncating='pre')"
   ]
  },
  {
   "cell_type": "markdown",
   "metadata": {},
   "source": [
    "### Trace Plot - Take 2\n",
    "\n",
    "Again, we investigate the trace plots for the two categories, but this time, with pre-padding"
   ]
  },
  {
   "cell_type": "code",
   "execution_count": 21,
   "metadata": {},
   "outputs": [],
   "source": [
    "# Reinitializing the models for the two categories\n",
    "model_short = model_maker(summary=False)\n",
    "model_long = model_maker(summary=False)"
   ]
  },
  {
   "cell_type": "code",
   "execution_count": null,
   "metadata": {},
   "outputs": [
    {
     "name": "stderr",
     "output_type": "stream",
     "text": [
      "0epoch [00:00, ?epoch/s]\n",
      "  0%|                                                 | 0/10 [00:00<?, ?epoch/s]\n",
      "  0%|                                            | 0.00/5.00 [00:00<?, ?batch/s]\u001b[A\n",
      " 20%|██        | 1.00/5.00 [03:26<13:45, 206s/batch, accuracy=0.502, loss=0.698]\u001b[A\n",
      " 40%|████      | 2.00/5.00 [06:59<10:30, 210s/batch, accuracy=0.477, loss=0.917]\u001b[A\n",
      " 60%|██████▌    | 3.00/5.00 [10:31<07:01, 211s/batch, accuracy=0.471, loss=1.02]\u001b[A\n",
      " 80%|████████▊  | 4.00/5.00 [14:01<03:30, 211s/batch, accuracy=0.468, loss=1.07]\u001b[A\n",
      " 10%|█         | 1/10 [17:29<2:37:29, 1049.98s/epoch, accuracy=0.464, loss=1.09]\u001b[A\n",
      "  0%|                 | 0.00/5.00 [00:00<?, ?batch/s, accuracy=0.464, loss=1.09]\u001b[A\n",
      " 20%|██▍         | 1.00/5.00 [03:30<14:00, 210s/batch, accuracy=0.455, loss=1.2]\u001b[A\n",
      " 40%|████▍      | 2.00/5.00 [06:55<10:22, 207s/batch, accuracy=0.453, loss=1.19]\u001b[A\n",
      " 60%|██████▌    | 3.00/5.00 [10:21<06:53, 207s/batch, accuracy=0.443, loss=1.21]\u001b[A\n",
      " 80%|█████████▌  | 4.00/5.00 [13:57<03:30, 210s/batch, accuracy=0.445, loss=1.2]\u001b[A\n",
      " 20%|██        | 2/10 [34:42<2:18:36, 1039.59s/epoch, accuracy=0.446, loss=1.19]\u001b[A\n",
      "  0%|                 | 0.00/5.00 [00:00<?, ?batch/s, accuracy=0.446, loss=1.19]\u001b[A\n",
      " 20%|██▏        | 1.00/5.00 [03:22<13:30, 203s/batch, accuracy=0.425, loss=1.18]\u001b[A\n",
      " 40%|████▍      | 2.00/5.00 [06:45<10:08, 203s/batch, accuracy=0.448, loss=1.14]\u001b[A\n",
      " 60%|██████▌    | 3.00/5.00 [10:06<06:43, 202s/batch, accuracy=0.443, loss=1.14]\u001b[A\n",
      " 80%|████████▊  | 4.00/5.00 [13:24<03:20, 201s/batch, accuracy=0.446, loss=1.13]\u001b[A\n",
      " 30%|███       | 3/10 [51:23<1:59:13, 1021.91s/epoch, accuracy=0.446, loss=1.13]\u001b[A\n",
      "  0%|                 | 0.00/5.00 [00:00<?, ?batch/s, accuracy=0.446, loss=1.13]\u001b[A\n",
      " 20%|██▏        | 1.00/5.00 [03:27<13:49, 207s/batch, accuracy=0.412, loss=1.14]\u001b[A\n",
      " 40%|████▍      | 2.00/5.00 [06:45<10:06, 202s/batch, accuracy=0.447, loss=1.07]\u001b[A\n",
      " 60%|██████▌    | 3.00/5.00 [10:34<07:08, 214s/batch, accuracy=0.444, loss=1.07]\u001b[A\n",
      " 80%|████████▊  | 4.00/5.00 [13:58<03:30, 210s/batch, accuracy=0.446, loss=1.06]\u001b[A\n",
      " 40%|███▏    | 4/10 [1:08:55<1:43:24, 1034.08s/epoch, accuracy=0.446, loss=1.06]\u001b[A\n",
      "  0%|                 | 0.00/5.00 [00:00<?, ?batch/s, accuracy=0.446, loss=1.06]\u001b[A\n",
      " 20%|██▏        | 1.00/5.00 [03:52<15:28, 232s/batch, accuracy=0.406, loss=1.08]\u001b[A\n",
      " 40%|████▍      | 2.00/5.00 [07:12<10:40, 214s/batch, accuracy=0.446, loss=1.01]\u001b[A\n",
      " 60%|██████▌    | 3.00/5.00 [10:39<07:00, 210s/batch, accuracy=0.444, loss=1.01]\u001b[A\n",
      " 80%|███████████▏  | 4.00/5.00 [14:00<03:26, 207s/batch, accuracy=0.446, loss=1]\u001b[A\n",
      " 50%|█████▌     | 5/10 [1:26:13<1:26:17, 1035.52s/epoch, accuracy=0.446, loss=1]\u001b[A\n",
      "  0%|                    | 0.00/5.00 [00:00<?, ?batch/s, accuracy=0.446, loss=1]\u001b[A\n",
      " 20%|██        | 1.00/5.00 [03:25<13:41, 205s/batch, accuracy=0.458, loss=0.947]\u001b[A\n",
      " 40%|████▍      | 2.00/5.00 [07:40<11:43, 234s/batch, accuracy=0.45, loss=0.952]\u001b[A\n",
      " 60%|██████    | 3.00/5.00 [10:57<07:14, 217s/batch, accuracy=0.448, loss=0.949]\u001b[A\n",
      " 80%|████████  | 4.00/5.00 [14:21<03:32, 212s/batch, accuracy=0.446, loss=0.946]\u001b[A\n",
      " 60%|████▏  | 6/10 [1:45:08<1:11:16, 1069.16s/epoch, accuracy=0.446, loss=0.945]\u001b[A\n",
      "  0%|                | 0.00/5.00 [00:00<?, ?batch/s, accuracy=0.446, loss=0.945]\u001b[A\n",
      " 20%|██▏        | 1.00/5.00 [07:40<30:40, 460s/batch, accuracy=0.45, loss=0.907]\u001b[A\n",
      " 40%|████      | 2.00/5.00 [15:39<23:33, 471s/batch, accuracy=0.459, loss=0.892]\u001b[A"
     ]
    }
   ],
   "source": [
    "# Again we train `model_short` with short reviews\n",
    "\n",
    "X_short = prepad_X_train[idx_short]\n",
    "y_short = y_train[idx_short]\n",
    "epochs = 10\n",
    "history_short = model_short.fit(\n",
    "    X_short, y_short,\n",
    "    epochs=epochs,\n",
    "    batch_size=640,\n",
    "    callbacks=[TqdmCallback(verbose=1)],\n",
    "    verbose=0\n",
    ")"
   ]
  },
  {
   "cell_type": "code",
   "execution_count": null,
   "metadata": {},
   "outputs": [],
   "source": [
    "# Then we train `model_long` with short reviews\n",
    "\n",
    "X_long = prepad_X_train[idx_long]\n",
    "y_long = y_train[idx_long]\n",
    "history_long = model_long.fit(X_short, y_short, epochs=epochs,batch_size=640,callbacks=[TqdmCallback(verbose=1)],verbose=0);"
   ]
  },
  {
   "cell_type": "code",
   "execution_count": null,
   "metadata": {},
   "outputs": [],
   "source": [
    "# Helper function to plot the data\n",
    "# Plot the MSE of the model\n",
    "plt.rcParams[\"figure.figsize\"] = (8,6)\n",
    "plt.title(\"Padding='pre'\",fontsize=20)\n",
    "plt.semilogy(history_short.history['loss'], label='Shorter reviews', color='#FF9A98', linewidth=3)\n",
    "plt.semilogy(history_long.history['loss'],  label='Longer reviews', color='#75B594', linewidth=3)\n",
    "plt.legend()\n",
    "\n",
    "# Set the axes labels\n",
    "plt.xlabel('Epochs',fontsize=14)\n",
    "plt.xticks(range(1,epochs,4))\n",
    "plt.ylabel('MSE Loss',fontsize=14)\n",
    "plt.legend(fontsize=14)\n",
    "plt.show()"
   ]
  },
  {
   "cell_type": "markdown",
   "metadata": {},
   "source": [
    "### 🍲 Further improvements\n",
    "\n",
    "We solved the vanishing gradient problem by *pre-padding* the sequences, but what other design choices can help you improve performance?"
   ]
  },
  {
   "cell_type": "code",
   "execution_count": null,
   "metadata": {},
   "outputs": [],
   "source": [
    "### edTest(test_chow3) ###\n",
    "# Submit your answer as a string below\n",
    "answer3 = '___'"
   ]
  },
  {
   "cell_type": "code",
   "execution_count": null,
   "metadata": {},
   "outputs": [],
   "source": []
  }
 ],
 "metadata": {
  "kernelspec": {
   "display_name": "Python (tf-macos)",
   "language": "python",
   "name": "tf-macos"
  },
  "language_info": {
   "codemirror_mode": {
    "name": "ipython",
    "version": 3
   },
   "file_extension": ".py",
   "mimetype": "text/x-python",
   "name": "python",
   "nbconvert_exporter": "python",
   "pygments_lexer": "ipython3",
   "version": "3.10.18"
  }
 },
 "nbformat": 4,
 "nbformat_minor": 4
}
