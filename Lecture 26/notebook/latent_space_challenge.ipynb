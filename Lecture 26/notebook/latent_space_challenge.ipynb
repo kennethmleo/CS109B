{
 "cells": [
  {
   "cell_type": "markdown",
   "metadata": {},
   "source": [
    "## Title\n",
    "Autoencoders on Iris data\n",
    "\n",
    "## Description :\n",
    "The goal of this exercise is to visualize the latent-space for the autoencoder trained on the IRIS dataset. \n",
    "\n",
    "<img src=\"../fig/fig6.png\" style=\"width: 500px;\">\n",
    "\n",
    "## Instructions:\n",
    "- Load the IRIS dataset with the `load_iris()` function provided by keras. \n",
    "- Load the predictors as the variable `X` and the targets as the variable `y`.\n",
    "- Make a basic autoencoder model (Encoder - Decoder) as follows:\n",
    "    - Map encoder to a latent (hidden) space - input dimension is 4 and output dimension is 2.\n",
    "    - Use the decoder to reconstruct - input dimension is 2 and output dimension is 4.\n",
    "- Make the final `autoencoder` model with the help of the <a href=\"https://www.tensorflow.org/guide/keras/functional\" target=\"_blank\">keras functional API</a> \n",
    "- Compile the model with an appropriate `optimizer` and `loss`.\n",
    "- Train the model for several epochs and save the training into a variable `history`.\n",
    "- Plot the `loss` and `validation_loss` over the epochs.\n",
    "- Finally plot the latent space representation along with the clusters using the `plot3clusters()` function. This plot will look similar to the one given above.\n",
    "\n",
    "\n",
    "## Hints: \n",
    "\n",
    "<a href=\"https://keras.io/guides/sequential_model/\" target=\"_blank\">keras.compile()</a> Compiles the layers into a network.\n",
    "\n",
    "<a href=\"https://keras.io/guides/sequential_model/\" target=\"_blank\">keras.Sequential()</a> Models a sequential neural network.\n",
    "\n",
    "<a href=\"https://keras.io/api/layers/core_layers/dense/\" target=\"_blank\">keras.Dense()</a> A regular densely-connected NN layer.\n",
    "\n",
    "<a href=\"https://www.tensorflow.org/api_docs/python/tf/keras/Input\" target=\"_blank\">tf.keras.Input()</a> Used to instantiate a Keras tensor."
   ]
  },
  {
   "cell_type": "code",
   "execution_count": 1,
   "metadata": {},
   "outputs": [],
   "source": [
    "# Import the necessary libraries\n",
    "import pandas as pd\n",
    "import numpy as np\n",
    "from sklearn.datasets import load_iris\n",
    "from sklearn.preprocessing import MinMaxScaler\n",
    "from sklearn.decomposition import PCA\n",
    "from matplotlib import pyplot as plt\n",
    "%matplotlib inline\n",
    "import tensorflow as tf"
   ]
  },
  {
   "cell_type": "code",
   "execution_count": 2,
   "metadata": {},
   "outputs": [],
   "source": [
    "# Run this cell for more readable visuals \n",
    "large = 22; med = 16; small = 10\n",
    "params = {'axes.titlesize': large,\n",
    "          'legend.fontsize': med,\n",
    "          'figure.figsize': (16, 10),\n",
    "          'axes.labelsize': med,\n",
    "          'axes.titlesize': med,\n",
    "          'axes.linewidth': 2,\n",
    "          'xtick.labelsize': med,\n",
    "          'ytick.labelsize': med,\n",
    "          'figure.titlesize': large}\n",
    "plt.style.use('seaborn-white')\n",
    "plt.rcParams.update(params)\n",
    "%matplotlib inline"
   ]
  },
  {
   "cell_type": "code",
   "execution_count": 63,
   "metadata": {},
   "outputs": [
    {
     "name": "stdout",
     "output_type": "stream",
     "text": [
      "(150, 4) (150,)\n"
     ]
    }
   ],
   "source": [
    "#Load Iris Dataset \n",
    "iris = load_iris()\n",
    "\n",
    "# Get the predictor and response variables\n",
    "X = iris.data\n",
    "y = iris.target\n",
    "\n",
    "# Get the Iris label names\n",
    "target_names = iris.target_names\n",
    "print(X.shape, y.shape) \n",
    "\n",
    "# Standardize the data\n",
    "scaler = MinMaxScaler()\n",
    "X_scaled = scaler.fit_transform(X)"
   ]
  },
  {
   "cell_type": "code",
   "execution_count": 81,
   "metadata": {},
   "outputs": [],
   "source": [
    "# Helper function to plot the data as clusters \n",
    "# based on the iris species label\n",
    "\n",
    "def plot3clusters(X, title, vtitle):\n",
    "    plt.figure()\n",
    "    \n",
    "    # Select the colours of the clusters\n",
    "    colors = ['#A43F98', '#5358E0', '#DE0202']\n",
    "    lw = 2\n",
    "    plt.figure(figsize=(9,7));\n",
    "    for color, i, target_name in zip(colors, [0, 1, 2], target_names):\n",
    "        plt.scatter(X[y == i, 0], X[y == i, 1], color=color, alpha=1., lw=lw, label=target_name);\n",
    "   \n",
    "    plt.legend(loc='best', shadow=False, scatterpoints=1)\n",
    "    plt.title(title);\n",
    "    plt.xlabel(vtitle + \"1\")\n",
    "    plt.ylabel(vtitle + \"2\")\n",
    "    plt.show();"
   ]
  },
  {
   "cell_type": "code",
   "execution_count": 0,
   "metadata": {},
   "outputs": [],
   "source": [
    "### edTest(test_check_ae) ###\n",
    "\n",
    "# Create an AE and fit it with our data using 2 neurons in the dense layer \n",
    "# using keras' functional API\n",
    "\n",
    "# Get the number of data samples i.e. the number of columns\n",
    "input_dim = ___\n",
    "output_dim = ___\n",
    "\n",
    "# Specify the number of neurons for the dense layers\n",
    "encoding_dim = ___ \n",
    "\n",
    "# Specify the input layer\n",
    "input_features = tf.keras.Input(___)\n",
    "\n",
    "# Add a denser layer as the encode layer following the input layer \n",
    "# with 2 neurons and no activation function\n",
    "encoded = tf.keras.layers.Dense(___)(input_features)\n",
    "\n",
    "# Add a denser layer as the decode layer following the encode layer \n",
    "# with output_dim as a parameter and no activation function\n",
    "decoded = tf.keras.layers.Dense(___)(encoded)\n",
    "\n",
    "# Create an autoencoder model with\n",
    "# input as input_features and outputs decoded\n",
    "autoencoder = tf.keras.Model(___, ___)\n",
    "\n",
    "# Complile the autoencoder model\n",
    "autoencoder.compile(___)\n",
    "\n",
    "# View the summary of the autoencoder\n",
    "autoencoder.summary()"
   ]
  },
  {
   "cell_type": "code",
   "execution_count": 0,
   "metadata": {},
   "outputs": [],
   "source": [
    "# Use the helper function to plot the model history\n",
    "\n",
    "# Get the history of the model to plot\n",
    "history = autoencoder.fit(X_scaled, X_scaled,\n",
    "                epochs=___,\n",
    "                batch_size=16,\n",
    "                shuffle=___,\n",
    "                validation_split=0.1,\n",
    "                verbose = 0)\n",
    "\n",
    "# Plot the loss \n",
    "plt.plot(history.history['loss'], color='#FF7E79',linewidth=3, alpha=0.5)\n",
    "plt.plot(history.history['val_loss'], color='#007D66', linewidth=3, alpha=0.4)\n",
    "plt.title('Model train vs Validation loss')\n",
    "plt.ylabel('Loss')\n",
    "plt.xlabel('Epoch')\n",
    "plt.legend(['Train', 'Validation'], loc='best')\n",
    "plt.show()\n"
   ]
  },
  {
   "cell_type": "code",
   "execution_count": 0,
   "metadata": {},
   "outputs": [],
   "source": [
    "# Create a model which has input as input_features and \n",
    "# output as encoded\n",
    "encoder = tf.keras.Model(___, ___)\n",
    "\n",
    "# Predict on the entire data using the encoder model, \n",
    "# remember to use X_scaled \n",
    "encoded_data = encoder.predict(___)\n",
    "\n",
    "# Call the function plot3clusters to plot the predicted data \n",
    "# using the encoded layer\n",
    "plot3clusters(encoded_data, 'Encoded data latent-space', 'dimension ');"
   ]
  },
  {
   "cell_type": "markdown",
   "metadata": {},
   "source": [
    "# Mindchow 🍲\n",
    "Go back and train for more epochs. Does your latent-space distinguish between the plant types better?"
   ]
  },
  {
   "cell_type": "markdown",
   "metadata": {},
   "source": [
    "*Your answer here*"
   ]
  }
 ],
 "metadata": {
  "kernelspec": {
   "display_name": "Python 3",
   "language": "python",
   "name": "python3"
  },
  "language_info": {
   "codemirror_mode": {
    "name": "ipython",
    "version": 3
   },
   "file_extension": ".py",
   "mimetype": "text/x-python",
   "name": "python",
   "nbconvert_exporter": "python",
   "pygments_lexer": "ipython3",
   "version": "3.8.5"
  }
 },
 "nbformat": 4,
 "nbformat_minor": 4
}
