{
 "cells": [
  {
   "cell_type": "markdown",
   "metadata": {},
   "source": [
    "## Title\n",
    "Recreating image of Pavlos\n",
    "\n",
    "## Description :\n",
    "The aim of this exercise is to understand image reconstruction using autoencoders.\n",
    "\n",
    "<img src=\"../fig/fig2.png\" style=\"width: 500px;\">\n",
    "\n",
    "## Instructions:\n",
    "- Load the 3 images given.\n",
    "- Use the helper code to reshape and flatten the images.\n",
    "- Create an autoencoder by defining the encode and decode layers.\n",
    "- Fit on the image of Pavlos.\n",
    "- Visualise the train and validation loss. This will look similar to the image given above.\n",
    "- Go through the reconstruction part carefully and understand what is happening in each step. There is no code you will have to fill in this part. \n",
    "\n",
    "## Reconstruction Description:\n",
    "\n",
    "The reconstruction part of this exercise tries to recreate the input image given. It is important to remember that our model has learnt from only one image i.e. the one of Pavlos. In the first section of this part, we give Pavlos's image as the input and the model recreates and outputs the correct image with very little noise. This looks similar to the image given below.\n",
    "\n",
    "<img src=\"../fig/fig3.png\" style=\"width: 500px;\">\n",
    "\n",
    "We then give the image of an eagle as the input, however, the output is still Pavlos! The noise is represented in the 3 part of the image given below.\n",
    "\n",
    "<img src=\"../fig/fig4.png\" style=\"width: 500px;\">\n",
    "\n",
    "Finally, we try to get a different output image by giving the input image of a human. Pavlos triumphs again.\n",
    "\n",
    "<img src=\"../fig/fig5.png\" style=\"width: 500px;\">\n",
    "\n",
    "\n",
    "## Hints: \n",
    "\n",
    "<a href=\"https://keras.io/guides/sequential_model/\" target=\"_blank\">keras.compile()</a> Compiles the layers into a network.\n",
    "\n",
    "<a href=\"https://keras.io/guides/sequential_model/\" target=\"_blank\">keras.Sequential()</a> Models a sequential neural network.\n",
    "\n",
    "<a href=\"https://keras.io/api/layers/core_layers/dense/\" target=\"_blank\">keras.Dense()</a> A regular densely-connected NN layer."
   ]
  },
  {
   "cell_type": "code",
   "execution_count": 0,
   "metadata": {},
   "outputs": [],
   "source": [
    "# Import the libraries\n",
    "import tensorflow as tf\n",
    "import pandas as pd\n",
    "import numpy as np\n",
    "from sklearn.datasets import load_iris\n",
    "from sklearn.preprocessing import MinMaxScaler\n",
    "from matplotlib import pyplot as plt\n",
    "%matplotlib inline\n",
    "from tensorflow.keras.models import Sequential, Model\n",
    "\n",
    "import tensorflow.keras as keras\n",
    "from tensorflow.keras import layers, Model, Input\n",
    "from tensorflow.keras.layers import Dense\n",
    "from tensorflow.keras.optimizers import Adam\n",
    "\n",
    "from PIL import Image\n",
    "import scipy.ndimage as ndi\n"
   ]
  },
  {
   "cell_type": "code",
   "execution_count": 0,
   "metadata": {},
   "outputs": [],
   "source": [
    "# Loading the 3 images\n",
    "pavlos_img_ptr = np.array(Image.open(\"pavlos.jpeg\"))\n",
    "notpavlos_img_ptr = np.array(Image.open(\"not-pavlos.jpeg\"))\n",
    "notpavlos2_img_ptr = np.array(Image.open(\"not-pavlos2.jpg\"))"
   ]
  },
  {
   "cell_type": "code",
   "execution_count": 0,
   "metadata": {},
   "outputs": [],
   "source": [
    "# Helper function to re-size the images\n",
    "def img_resize(imgs_in, factor):\n",
    "    imgs_out_train = ndi.zoom(imgs_in, (1, factor, factor, 1), order=2)\n",
    "    return imgs_out_train"
   ]
  },
  {
   "cell_type": "code",
   "execution_count": 0,
   "metadata": {},
   "outputs": [],
   "source": [
    "# Use the helper code to reduce image size to 100x100\n",
    "\n",
    "SIZE=100\n",
    "pavlos_img_ptr = pavlos_img_ptr[:,:,2].reshape(1,150,150,1)\n",
    "pavlos_img_ptr = img_resize(pavlos_img_ptr, SIZE/pavlos_img_ptr.shape[1])\n",
    "pavlos_img_nice = pavlos_img_ptr\n",
    "\n",
    " \n",
    "notpavlos_img_ptr = notpavlos_img_ptr[:,:,2].reshape(1,132,132,1)\n",
    "notpavlos_img_ptr = img_resize(notpavlos_img_ptr,SIZE/notpavlos_img_ptr.shape[1])\n",
    "notpavlos_img_nice = notpavlos_img_ptr\n",
    "\n",
    " \n",
    "notpavlos2_img_ptr = notpavlos2_img_ptr[:,:,2].reshape(1,100,100,1)\n",
    "notpavlos2_img_ptr = img_resize(notpavlos2_img_ptr, SIZE/notpavlos2_img_ptr.shape[1])\n",
    "notpavlos2_img_nice  = notpavlos2_img_ptr\n",
    "\n",
    "\n",
    "# Flatten the images\n",
    "pavlos_flatten = pavlos_img_nice.reshape(100*100,1)\n",
    "print(pavlos_flatten.shape)\n",
    "\n",
    "notpavlos_flatten = notpavlos_img_nice.reshape(100*100,1)\n",
    "print(notpavlos_flatten.shape)\n",
    "\n",
    "notpavlos2_flatten = notpavlos2_img_nice.reshape(100*100,1)\n",
    "print(notpavlos2_flatten.shape)"
   ]
  },
  {
   "cell_type": "markdown",
   "metadata": {},
   "source": [
    "### Create model and train"
   ]
  },
  {
   "cell_type": "code",
   "execution_count": 0,
   "metadata": {},
   "outputs": [],
   "source": [
    "### edTest(test_check) ###\n",
    "\n",
    "# Create an Autoencoder and fit it with our data using \n",
    "# 8 neurons in the dense layer using keras' functional API\n",
    "\n",
    "# Get the input size from the shape of the flattened image\n",
    "input_dim = pavlos_flatten.shape[0]\n",
    "encoding_dim = 8 \n",
    "\n",
    "# Create an input \"layer\" using input_dim as a parameter\n",
    "input_section = ___\n",
    "\n",
    "# Create a denser layer as the encode layer with 8 neurons and linear activation\n",
    "encoded = ___\n",
    "\n",
    "# Create an autoencoder model which has input as input_section and outputs encoded\n",
    "encoder = ___\n",
    "\n",
    "\n",
    "# Decoder\n",
    "\n",
    "# Create an input \"layer\" using encoding_dim as shape\n",
    "latent_input = ___\n",
    "\n",
    "# Create a denser layer as the encode layer with input_dim and linear activation\n",
    "decoded = ___\n",
    "\n",
    "# Create a model which has input as latent_input and outputs decoded\n",
    "decoder = ___\n"
   ]
  },
  {
   "cell_type": "code",
   "execution_count": 0,
   "metadata": {},
   "outputs": [],
   "source": [
    "### edTest(test_architecture) ###\n",
    "# Create an autoencoder using keras Sequential\n",
    "autoencoder = ___\n",
    "\n",
    "# Add the encoder followed by the decoder initialised above to the autoencoder model\n",
    "autoencoder.___\n",
    "autoencoder.___\n",
    "\n",
    "# Compile the model with mse as the loss and Adam optimizer with parameter 0.001\n",
    "autoencoder.___\n",
    "\n",
    "# Take a look at the summary of the model\n",
    "autoencoder.summary()"
   ]
  },
  {
   "cell_type": "code",
   "execution_count": 0,
   "metadata": {},
   "outputs": [],
   "source": [
    "# Get the history of the model by fitting on pavlos_flatten after reshape\n",
    "# Specify 100 epochs and batch size of 1000 with verbose=1\n",
    "# keras expects a shape of (1,n) in the case of a flattened input.\n",
    "history = ___"
   ]
  },
  {
   "cell_type": "code",
   "execution_count": 0,
   "metadata": {},
   "outputs": [],
   "source": [
    "# Use the helper function to plot the loss\n",
    "\n",
    "plt.plot(np.log(history.history['loss']),linewidth=2,color='darkblue' )\n",
    "plt.title('Epochs vs Training loss')\n",
    "plt.ylabel('Log loss')\n",
    "plt.xlabel('Epoch')\n",
    "plt.legend(['Train'], loc='best')\n",
    "plt.show()"
   ]
  },
  {
   "cell_type": "markdown",
   "metadata": {},
   "source": [
    "### Reconstruct Pavlos"
   ]
  },
  {
   "cell_type": "code",
   "execution_count": 0,
   "metadata": {},
   "outputs": [],
   "source": [
    "### Reconstruct Pavlos\n",
    "pavlos_flatten_reconstructed = autoencoder(pavlos_flatten.reshape(-1,input_dim)).numpy()\n",
    "pavlos_reconstructed = pavlos_flatten_reconstructed.reshape(100,100)"
   ]
  },
  {
   "cell_type": "code",
   "execution_count": 0,
   "metadata": {},
   "outputs": [],
   "source": [
    "# Helper code to display the images\n",
    "fig, ax = plt.subplots(1,3, figsize=(9,4))\n",
    "\n",
    "ax[0].imshow(pavlos_img_nice.reshape(100,100), cmap='gray')\n",
    "ax[0].set_title('Original')\n",
    "ax[0].axis('off')\n",
    "\n",
    "ax[1].imshow(pavlos_reconstructed, cmap='gray')\n",
    "ax[1].set_title('Recon')\n",
    "ax[1].axis('off')\n",
    "\n",
    "ax[2].imshow(pavlos_img_nice.reshape(100,100) - pavlos_reconstructed, cmap='gray');\n",
    "ax[2].axis('off');"
   ]
  },
  {
   "cell_type": "markdown",
   "metadata": {},
   "source": [
    "### Reconstruct Eagle"
   ]
  },
  {
   "cell_type": "code",
   "execution_count": 0,
   "metadata": {},
   "outputs": [],
   "source": [
    "### Reconstruct eagle\n",
    "notpavlos_flatten_reconstructed = autoencoder(notpavlos_flatten.reshape(-1,10000)).numpy()\n",
    "notpavlos_reconstructed = notpavlos_flatten_reconstructed.reshape(100,100)"
   ]
  },
  {
   "cell_type": "code",
   "execution_count": 0,
   "metadata": {},
   "outputs": [],
   "source": [
    "# Helper code to display the images\n",
    "fig, ax = plt.subplots(1,3, figsize=(9,4))\n",
    "\n",
    "ax[0].imshow(notpavlos_img_nice.reshape(100,100),cmap='gray')\n",
    "ax[0].set_title('Eagle - original (A)')\n",
    "ax[0].axis('off')\n",
    "\n",
    "ax[1].imshow(notpavlos_reconstructed,cmap='gray')\n",
    "ax[1].set_title('Eagle - Recon (B)')\n",
    "ax[1].axis('off')\n",
    "\n",
    "ax[2].imshow(notpavlos_img_nice.reshape(100,100) - notpavlos_reconstructed,cmap='gray')\n",
    "ax[2].set_title('A - B')\n",
    "ax[2].axis('off');\n"
   ]
  },
  {
   "cell_type": "markdown",
   "metadata": {},
   "source": [
    "### Reconstruct Not Pavlos"
   ]
  },
  {
   "cell_type": "code",
   "execution_count": 0,
   "metadata": {},
   "outputs": [],
   "source": [
    "### Reconstruct an image that is not of Pavlos\n",
    "notpavlos2_flatten_reconstructed = autoencoder(notpavlos2_flatten.reshape(-1,input_dim)).numpy()\n",
    "notpavlos2_reconstructed = notpavlos2_flatten_reconstructed.reshape(100,100)"
   ]
  },
  {
   "cell_type": "code",
   "execution_count": 0,
   "metadata": {},
   "outputs": [],
   "source": [
    "# Helper code to display the images\n",
    "fig, ax = plt.subplots(1,3, figsize=(9,4))\n",
    "\n",
    "ax[0].imshow(notpavlos2_img_nice.reshape(100,100),cmap='gray')\n",
    "ax[0].set_title('Marios - Not Pavlos \\n original (A)')\n",
    "ax[0].axis('off')\n",
    "\n",
    "ax[1].imshow(notpavlos2_reconstructed,cmap='gray')\n",
    "ax[1].set_title('Marios - Not Pavlos \\n Recon (B)')\n",
    "ax[1].axis('off')\n",
    "\n",
    "ax[2].imshow(notpavlos2_img_nice.reshape(100,100) - notpavlos_reconstructed,cmap='gray')\n",
    "ax[2].set_title('A - B')\n",
    "ax[2].axis('off');"
   ]
  },
  {
   "cell_type": "markdown",
   "metadata": {},
   "source": [
    "## Mindchow 🍲 \n",
    "\n",
    "Go back and decrease the number of epochs to see when the reconstruction starts getting grainy."
   ]
  },
  {
   "cell_type": "markdown",
   "metadata": {},
   "source": [
    "*Your answer here*"
   ]
  }
 ],
 "metadata": {
  "kernelspec": {
   "display_name": "Python 3",
   "language": "python",
   "name": "python3"
  },
  "language_info": {
   "codemirror_mode": {
    "name": "ipython",
    "version": 3
   },
   "file_extension": ".py",
   "mimetype": "text/x-python",
   "name": "python",
   "nbconvert_exporter": "python",
   "pygments_lexer": "ipython3",
   "version": "3.8.5"
  }
 },
 "nbformat": 4,
 "nbformat_minor": 2
}
